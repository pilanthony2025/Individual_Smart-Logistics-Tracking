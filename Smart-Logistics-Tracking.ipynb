{
 "cells": [
  {
   "cell_type": "markdown",
   "id": "38d7f00b-70a2-4949-87c6-1fba03d1dbc8",
   "metadata": {},
   "source": [
    "Week 2 - Homework: IoT Data Simulation"
   ]
  },
  {
   "cell_type": "code",
   "execution_count": 1,
   "id": "e2f0fe42-ca13-47c1-b96c-9a96a292dcf9",
   "metadata": {},
   "outputs": [
    {
     "name": "stdout",
     "output_type": "stream",
     "text": [
      "Generated IoT Data for Smart Logistics Tracking:\n",
      "                   timestamp packageId             location      status  \\\n",
      "0 2025-06-26 07:43:57.751751    PKG043  Distribution Center     On Hold   \n",
      "1 2025-06-24 01:13:57.752709    PKG021           In Transit  In Transit   \n",
      "2 2025-06-25 00:19:57.752824    PKG047         Delivery Hub  In Transit   \n",
      "3 2025-06-28 17:50:57.752984    PKG047  Distribution Center   Delivered   \n",
      "4 2025-06-23 16:58:57.753124    PKG016                 Port  In Transit   \n",
      "\n",
      "  additionalInfo  \n",
      "0         28.9°C  \n",
      "1            N/A  \n",
      "2         28.9°C  \n",
      "3   66% humidity  \n",
      "4   66% humidity  \n",
      "✅ IoT data saved successfully as iot_data.csv\n",
      "✅ IoT data saved successfully as iot_data.json\n"
     ]
    }
   ],
   "source": [
    "# Import required libraries\n",
    "import pandas as pd\n",
    "import numpy as np\n",
    "from datetime import datetime, timedelta\n",
    "\n",
    "# Step 1: Set the number of records to generate\n",
    "# Using 100 records as specified in the template\n",
    "num_records = 100\n",
    "\n",
    "# Step 2: Define possible values for logistics tracking data\n",
    "# These mimic real-world package tracking and IoT sensor data\n",
    "locations = [\"Warehouse\", \"Distribution Center\", \"In Transit\", \"Port\", \"Delivery Hub\"]\n",
    "statuses = [\"In Transit\", \"Delivered\", \"Pending\", \"On Hold\"]\n",
    "additional_infos = [\n",
    "    f\"{round(np.random.uniform(15.0, 30.0), 1)}°C\",  # Temperature (15-30°C)\n",
    "    f\"{np.random.randint(40, 80)}% humidity\",        # Humidity (40-80%)\n",
    "    f\"{round(np.random.uniform(10.0, 20.0), 1)} kWh\",# Energy consumption\n",
    "    \"N/A\"                                            # Non-numeric for some cases\n",
    "]\n",
    "\n",
    "# Step 3: Generate IoT data for Smart Logistics Tracking\n",
    "data = []\n",
    "for i in range(num_records):\n",
    "    record = {\n",
    "        # Generate timestamp within the last 7 days to simulate recent tracking\n",
    "        \"timestamp\": datetime.now() - timedelta(minutes=np.random.randint(0, 10080)),\n",
    "        # Generate unique package ID (e.g., PKG001 to PKG050)\n",
    "        \"packageId\": f\"PKG{np.random.randint(1, 51):03d}\",\n",
    "        # Randomly select location from predefined list\n",
    "        \"location\": np.random.choice(locations),\n",
    "        # Randomly select status from predefined list\n",
    "        \"status\": np.random.choice(statuses),\n",
    "        # Randomly select or generate environmental data (e.g., temperature, humidity)\n",
    "        \"additionalInfo\": np.random.choice(additional_infos)\n",
    "    }\n",
    "    data.append(record)\n",
    "\n",
    "# Step 4: Convert the data to a Pandas DataFrame\n",
    "df = pd.DataFrame(data)\n",
    "\n",
    "# Step 5: Display the first few rows to verify the data\n",
    "print(\"Generated IoT Data for Smart Logistics Tracking:\")\n",
    "print(df.head())\n",
    "\n",
    "# Step 6: Save the dataset as CSV (required for Week 2 homework)\n",
    "try:\n",
    "    df.to_csv(\"iot_data.csv\", index=False)\n",
    "    print(\"✅ IoT data saved successfully as iot_data.csv\")\n",
    "except Exception as e:\n",
    "    print(f\"Error saving CSV: {str(e)}\")\n",
    "\n",
    "# Step 7: Optionally save as JSON for flexibility\n",
    "try:\n",
    "    df.to_json(\"iot_data.json\", orient=\"records\")\n",
    "    print(\"✅ IoT data saved successfully as iot_data.json\")\n",
    "except Exception as e:\n",
    "    print(f\"Error saving JSON: {str(e)}\")"
   ]
  },
  {
   "cell_type": "code",
   "execution_count": null,
   "id": "46d87ea4-a732-4742-a37b-7d97856c80e3",
   "metadata": {},
   "outputs": [],
   "source": []
  }
 ],
 "metadata": {
  "kernelspec": {
   "display_name": "Python 3 (ipykernel)",
   "language": "python",
   "name": "python3"
  },
  "language_info": {
   "codemirror_mode": {
    "name": "ipython",
    "version": 3
   },
   "file_extension": ".py",
   "mimetype": "text/x-python",
   "name": "python",
   "nbconvert_exporter": "python",
   "pygments_lexer": "ipython3",
   "version": "3.13.3"
  }
 },
 "nbformat": 4,
 "nbformat_minor": 5
}
